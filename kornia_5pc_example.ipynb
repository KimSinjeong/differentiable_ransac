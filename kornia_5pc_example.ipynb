{
  "nbformat": 4,
  "nbformat_minor": 0,
  "metadata": {
    "colab": {
      "provenance": []
    },
    "kernelspec": {
      "name": "python3",
      "display_name": "Python 3"
    },
    "language_info": {
      "name": "python"
    }
  },
  "cells": [
    {
      "cell_type": "code",
      "source": [
        "!pip install git+https://github.com/kornia/kornia"
      ],
      "metadata": {
        "colab": {
          "base_uri": "https://localhost:8080/"
        },
        "id": "gCIEXnx3Qj5F",
        "outputId": "656ed281-4e82-44c0-c516-5c320c7e652a"
      },
      "execution_count": 1,
      "outputs": [
        {
          "output_type": "stream",
          "name": "stdout",
          "text": [
            "Collecting git+https://github.com/kornia/kornia\n",
            "  Cloning https://github.com/kornia/kornia to /tmp/pip-req-build-h7cg8zt7\n",
            "  Running command git clone --filter=blob:none --quiet https://github.com/kornia/kornia /tmp/pip-req-build-h7cg8zt7\n",
            "  Resolved https://github.com/kornia/kornia to commit 4405526583a7220fe40cfd3bc0b9fb4c35b8b179\n",
            "  Installing build dependencies ... \u001b[?25l\u001b[?25hdone\n",
            "  Getting requirements to build wheel ... \u001b[?25l\u001b[?25hdone\n",
            "  Installing backend dependencies ... \u001b[?25l\u001b[?25hdone\n",
            "  Preparing metadata (pyproject.toml) ... \u001b[?25l\u001b[?25hdone\n",
            "Requirement already satisfied: packaging in /usr/local/lib/python3.10/dist-packages (from kornia==0.7.1.dev0) (23.2)\n",
            "Requirement already satisfied: torch>=1.9.1 in /usr/local/lib/python3.10/dist-packages (from kornia==0.7.1.dev0) (2.0.1+cu118)\n",
            "Requirement already satisfied: filelock in /usr/local/lib/python3.10/dist-packages (from torch>=1.9.1->kornia==0.7.1.dev0) (3.12.4)\n",
            "Requirement already satisfied: typing-extensions in /usr/local/lib/python3.10/dist-packages (from torch>=1.9.1->kornia==0.7.1.dev0) (4.5.0)\n",
            "Requirement already satisfied: sympy in /usr/local/lib/python3.10/dist-packages (from torch>=1.9.1->kornia==0.7.1.dev0) (1.12)\n",
            "Requirement already satisfied: networkx in /usr/local/lib/python3.10/dist-packages (from torch>=1.9.1->kornia==0.7.1.dev0) (3.1)\n",
            "Requirement already satisfied: jinja2 in /usr/local/lib/python3.10/dist-packages (from torch>=1.9.1->kornia==0.7.1.dev0) (3.1.2)\n",
            "Requirement already satisfied: triton==2.0.0 in /usr/local/lib/python3.10/dist-packages (from torch>=1.9.1->kornia==0.7.1.dev0) (2.0.0)\n",
            "Requirement already satisfied: cmake in /usr/local/lib/python3.10/dist-packages (from triton==2.0.0->torch>=1.9.1->kornia==0.7.1.dev0) (3.27.6)\n",
            "Requirement already satisfied: lit in /usr/local/lib/python3.10/dist-packages (from triton==2.0.0->torch>=1.9.1->kornia==0.7.1.dev0) (17.0.2)\n",
            "Requirement already satisfied: MarkupSafe>=2.0 in /usr/local/lib/python3.10/dist-packages (from jinja2->torch>=1.9.1->kornia==0.7.1.dev0) (2.1.3)\n",
            "Requirement already satisfied: mpmath>=0.19 in /usr/local/lib/python3.10/dist-packages (from sympy->torch>=1.9.1->kornia==0.7.1.dev0) (1.3.0)\n",
            "Building wheels for collected packages: kornia\n",
            "  Building wheel for kornia (pyproject.toml) ... \u001b[?25l\u001b[?25hdone\n",
            "  Created wheel for kornia: filename=kornia-0.7.1.dev0-py2.py3-none-any.whl size=722889 sha256=3f22ee327bc4c571bb68edfd1867945d7d196e4467557d8012bd45987278c843\n",
            "  Stored in directory: /tmp/pip-ephem-wheel-cache-dcbky8i0/wheels/c0/eb/60/0456962343dd5ffc7e692e3c49b660d2283bd8bc75ce3b2fe0\n",
            "Successfully built kornia\n",
            "Installing collected packages: kornia\n",
            "Successfully installed kornia-0.7.1.dev0\n"
          ]
        }
      ]
    },
    {
      "cell_type": "code",
      "execution_count": 2,
      "metadata": {
        "id": "OtBf5vFsQgw-"
      },
      "outputs": [],
      "source": [
        "import torch\n",
        "import kornia"
      ]
    },
    {
      "cell_type": "code",
      "source": [
        "data = torch.rand((3, 5, 4), requires_grad=True)\n",
        "models = kornia.geometry.epipolar.find_essential(data[:, :, :2], data[:, :, 2:])\n",
        "models.retain_grad()\n",
        "torch.norm(models).backward()\n",
        "print(models.grad, data.grad)"
      ],
      "metadata": {
        "colab": {
          "base_uri": "https://localhost:8080/"
        },
        "id": "INIYZESSQjcv",
        "outputId": "b3ac8d55-bdad-4303-d24f-01b541efdfe8"
      },
      "execution_count": 3,
      "outputs": [
        {
          "output_type": "stream",
          "name": "stdout",
          "text": [
            "tensor([[[-0.3198,  0.1670,  0.1893],\n",
            "         [-0.1796, -0.2788, -0.0254],\n",
            "         [ 0.1034,  0.2119,  0.0327]],\n",
            "\n",
            "        [[-0.3360, -0.2233, -0.0520],\n",
            "         [-0.2018,  0.2460,  0.0859],\n",
            "         [-0.1127,  0.2046,  0.0687]],\n",
            "\n",
            "        [[-0.2203, -0.0867,  0.1783],\n",
            "         [-0.1883,  0.4240, -0.0738],\n",
            "         [ 0.1344, -0.0661, -0.0493]]]) tensor([[[ 1.1750e-08,  4.6012e-09, -3.9904e-08, -3.5301e-08],\n",
            "         [ 1.3802e-08,  1.0431e-07, -4.6331e-08, -1.2370e-07],\n",
            "         [ 2.7984e-08,  1.8207e-08,  4.0373e-08,  2.0916e-07],\n",
            "         [-2.0519e-07,  7.6363e-08,  5.9746e-08, -4.6891e-07],\n",
            "         [-2.7446e-08, -1.5194e-09, -3.6561e-08,  2.6339e-10]],\n",
            "\n",
            "        [[ 2.0431e-07, -1.0148e-07,  2.5790e-07, -1.4005e-07],\n",
            "         [-1.2743e-07,  2.5227e-08, -6.1271e-08,  3.2021e-08],\n",
            "         [-1.8188e-07,  1.5419e-07, -1.9759e-07,  4.6351e-08],\n",
            "         [ 4.1110e-07, -4.4562e-07,  5.6700e-07, -2.2267e-08],\n",
            "         [-4.0576e-07,  3.4622e-07, -6.8141e-07,  7.4030e-08]],\n",
            "\n",
            "        [[ 1.2482e-06, -3.2413e-06, -7.5775e-07, -8.6428e-07],\n",
            "         [-1.2194e-06,  6.7405e-07,  7.7593e-07, -1.4080e-07],\n",
            "         [-1.3237e-07, -4.9014e-07,  1.0776e-07, -6.2400e-08],\n",
            "         [-8.1950e-08, -6.3260e-07, -2.9327e-07,  1.7709e-08],\n",
            "         [-1.3297e-06,  3.5384e-06,  5.9925e-07,  7.2667e-07]]])\n"
          ]
        }
      ]
    }
  ]
}
